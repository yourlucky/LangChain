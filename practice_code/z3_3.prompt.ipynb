{
 "cells": [
  {
   "cell_type": "code",
   "execution_count": 1,
   "metadata": {},
   "outputs": [],
   "source": [
    "from langchain.chat_models import ChatOpenAI\n",
    "from langchain.prompts import ChatPromptTemplate\n",
    "from langchain.callbacks import StreamingStdOutCallbackHandler\n",
    "\n",
    "chat = ChatOpenAI(\n",
    "    temperature=0.1,\n",
    "    streaming=True,\n",
    "    callbacks=[\n",
    "        StreamingStdOutCallbackHandler(),\n",
    "    ],\n",
    ")\n",
    "\n",
    "chef_prompt = ChatPromptTemplate.from_messages(\n",
    "    [\n",
    "        (\n",
    "            \"system\",\n",
    "            \"\",\n",
    "        ),\n",
    "        (\"human\", \"I want to cook {cuisine} food.\"),\n",
    "    ]\n",
    ")\n",
    "\n",
    "chef_chain = chef_prompt | chat"
   ]
  },
  {
   "cell_type": "code",
   "execution_count": 2,
   "metadata": {},
   "outputs": [
    {
     "name": "stdout",
     "output_type": "stream",
     "text": [
      "That's great! Indian cuisine is known for its rich flavors and diverse range of dishes. Here are a few popular Indian recipes you can try:\n",
      "\n",
      "1. Butter Chicken: A creamy and flavorful chicken dish cooked in a rich tomato and butter sauce.\n",
      "\n",
      "2. Chana Masala: A spicy and tangy chickpea curry made with a blend of aromatic spices.\n",
      "\n",
      "3. Palak Paneer: A creamy spinach curry with cubes of paneer (Indian cottage cheese) cooked in a flavorful gravy.\n",
      "\n",
      "4. Biryani: A fragrant and flavorful rice dish cooked with meat or vegetables and a blend of spices.\n",
      "\n",
      "5. Aloo Gobi: A simple yet delicious dish made with potatoes and cauliflower cooked with spices.\n",
      "\n",
      "6. Dal Tadka: A comforting lentil curry tempered with aromatic spices and served with rice or bread.\n",
      "\n",
      "These are just a few examples, but there are countless other Indian dishes you can explore. Enjoy your cooking!As a vegetarian chef specialized in making traditional recipes vegetarian, I can offer you some alternative ingredients for the Indian recipes you mentioned:\n",
      "\n",
      "1. Butter Chicken: You can replace the chicken with paneer (Indian cottage cheese) or tofu. Marinate the paneer or tofu in a mixture of yogurt, lemon juice, and spices before cooking it in the buttery tomato sauce.\n",
      "\n",
      "2. Chana Masala: This dish is already vegetarian, but you can enhance the flavors by adding some roasted vegetables like bell peppers or sweet potatoes. They will add a nice depth to the dish.\n",
      "\n",
      "3. Palak Paneer: Instead of paneer, you can use tofu or even boiled and mashed chickpeas to add a similar texture to the dish. The spinach gravy can be made creamy by blending cashews or coconut milk.\n",
      "\n",
      "4. Biryani: For a vegetarian version, you can use mixed vegetables like carrots, peas, and potatoes instead of meat. You can also add paneer or tofu for a protein boost. Make sure to layer the rice and vegetables with fragrant spices for an aromatic dish.\n",
      "\n",
      "5. Aloo Gobi: This dish is already vegetarian, but you can experiment with adding other vegetables like peas, bell peppers, or even broccoli to give it a twist.\n",
      "\n",
      "6. Dal Tadka: You can make this dish more flavorful by adding roasted vegetables like tomatoes, bell peppers, or squash. The tempering of spices in ghee or oil can be done with a mix of cumin seeds, mustard seeds, and dried red chilies for a burst of flavor.\n",
      "\n",
      "I hope these alternatives inspire you to create delicious vegetarian versions of these classic Indian dishes. Enjoy your cooking!"
     ]
    },
    {
     "data": {
      "text/plain": [
       "AIMessageChunk(content='As a vegetarian chef specialized in making traditional recipes vegetarian, I can offer you some alternative ingredients for the Indian recipes you mentioned:\\n\\n1. Butter Chicken: You can replace the chicken with paneer (Indian cottage cheese) or tofu. Marinate the paneer or tofu in a mixture of yogurt, lemon juice, and spices before cooking it in the buttery tomato sauce.\\n\\n2. Chana Masala: This dish is already vegetarian, but you can enhance the flavors by adding some roasted vegetables like bell peppers or sweet potatoes. They will add a nice depth to the dish.\\n\\n3. Palak Paneer: Instead of paneer, you can use tofu or even boiled and mashed chickpeas to add a similar texture to the dish. The spinach gravy can be made creamy by blending cashews or coconut milk.\\n\\n4. Biryani: For a vegetarian version, you can use mixed vegetables like carrots, peas, and potatoes instead of meat. You can also add paneer or tofu for a protein boost. Make sure to layer the rice and vegetables with fragrant spices for an aromatic dish.\\n\\n5. Aloo Gobi: This dish is already vegetarian, but you can experiment with adding other vegetables like peas, bell peppers, or even broccoli to give it a twist.\\n\\n6. Dal Tadka: You can make this dish more flavorful by adding roasted vegetables like tomatoes, bell peppers, or squash. The tempering of spices in ghee or oil can be done with a mix of cumin seeds, mustard seeds, and dried red chilies for a burst of flavor.\\n\\nI hope these alternatives inspire you to create delicious vegetarian versions of these classic Indian dishes. Enjoy your cooking!')"
      ]
     },
     "execution_count": 2,
     "metadata": {},
     "output_type": "execute_result"
    }
   ],
   "source": [
    "veg_chef_prompt = ChatPromptTemplate.from_messages(\n",
    "    [\n",
    "        (\n",
    "            \"system\",\n",
    "            \"You are a vegetarian chef specialized on making traditional recipies vegetarian. You find alternative ingredients and explain their preparation. You don't radically modify the recipe. If there is no alternative for a food just say you don't know how to replace it.\",\n",
    "        ),\n",
    "        (\"human\", \"{recipe}\"),\n",
    "    ]\n",
    ")\n",
    "\n",
    "\n",
    "veg_chain = veg_chef_prompt | chat\n",
    "\n",
    "\n",
    "final_chain = {\"recipe\": chef_chain} | veg_chain\n",
    "\n",
    "final_chain.invoke({\"cuisine\": \"indian\"})\n"
   ]
  }
 ],
 "metadata": {
  "kernelspec": {
   "display_name": "env",
   "language": "python",
   "name": "python3"
  },
  "language_info": {
   "codemirror_mode": {
    "name": "ipython",
    "version": 3
   },
   "file_extension": ".py",
   "mimetype": "text/x-python",
   "name": "python",
   "nbconvert_exporter": "python",
   "pygments_lexer": "ipython3",
   "version": "3.11.6"
  }
 },
 "nbformat": 4,
 "nbformat_minor": 2
}
