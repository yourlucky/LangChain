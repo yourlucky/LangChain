{
 "cells": [
  {
   "cell_type": "code",
   "execution_count": 12,
   "metadata": {},
   "outputs": [
    {
     "data": {
      "text/plain": [
       "91"
      ]
     },
     "execution_count": 12,
     "metadata": {},
     "output_type": "execute_result"
    }
   ],
   "source": [
    "from langchain.chat_models import ChatOpenAI\n",
    "from langchain.document_loaders import TextLoader, PyPDFLoader, UnstructuredFileLoader\n",
    "from langchain.text_splitter import RecursiveCharacterTextSplitter, CharacterTextSplitter\n",
    "\n",
    "#내가 seprator(Ex ------, enter)를 정할경우 아래와 같이\n",
    "splitter = CharacterTextSplitter(\n",
    "    separator = \"\\n\",\n",
    "    chunk_size = 300,\n",
    "    chunk_overlap = 50,\n",
    "    length_function = len,\n",
    ")\n",
    "\n",
    "\"\"\"\n",
    "splitter = RecursiveCharacterTextSplitter(\n",
    "    chunk_size = 500,\n",
    "    #문장이 끊어지지 않게 앞뒤를 중복으로 갖고간다.\n",
    "    chunk_overlap = 50,\n",
    ")\n",
    "\"\"\"\n",
    "#loader = TextLoader(\"../data/hong.txt\")\n",
    "loader = PyPDFLoader(\"../data/hong.pdf\")\n",
    "#loader = UnstructuredFileLoader(\"../data/hong.pdf\")\n",
    "\n",
    "len(loader.load_and_split(text_splitter=splitter))\n",
    "\n"
   ]
  }
 ],
 "metadata": {
  "kernelspec": {
   "display_name": "TheThird",
   "language": "python",
   "name": "python3"
  },
  "language_info": {
   "codemirror_mode": {
    "name": "ipython",
    "version": 3
   },
   "file_extension": ".py",
   "mimetype": "text/x-python",
   "name": "python",
   "nbconvert_exporter": "python",
   "pygments_lexer": "ipython3",
   "version": "3.11.6"
  }
 },
 "nbformat": 4,
 "nbformat_minor": 2
}
