{
 "cells": [
  {
   "cell_type": "code",
   "execution_count": 3,
   "metadata": {},
   "outputs": [
    {
     "name": "stderr",
     "output_type": "stream",
     "text": [
      "Created a chunk of size 935, which is longer than the specified 600\n"
     ]
    }
   ],
   "source": [
    "from langchain.chat_models import ChatOpenAI\n",
    "from langchain.document_loaders import UnstructuredFileLoader\n",
    "from langchain.text_splitter import CharacterTextSplitter\n",
    "from langchain.embeddings import OpenAIEmbeddings, CacheBackedEmbeddings\n",
    "from langchain.vectorstores import Chroma\n",
    "from langchain.storage import LocalFileStore\n",
    "\n",
    "\n",
    "#어떤 문장을 vector화 해서 embedding하는 것이 돈이 들어감\n",
    "#그래서 여러번 사용할 때는 cache를 이용해서 저장해놓고 사용하는 것이 좋음\n",
    "cache_dir = LocalFileStore(\"../.cache/\")\n",
    "\n",
    "\n",
    "splitter = CharacterTextSplitter.from_tiktoken_encoder(\n",
    "    separator=\"\\n\",\n",
    "    chunk_size=600,\n",
    "    chunk_overlap=100,\n",
    ")\n",
    "loader = UnstructuredFileLoader(\"../data/hong.pdf\")\n",
    "\n",
    "docs = loader.load_and_split(text_splitter=splitter)\n",
    "\n",
    "embeddings = OpenAIEmbeddings()\n",
    "\n",
    "#Hi 에 해당하는 벡터를 알려줌\n",
    "#embeddings.embed_query(\"Hi\")\n",
    "\n",
    "\n",
    "#cache에 저장된 것을 불러옴\n",
    "cached_embeddings = CacheBackedEmbeddings.from_bytes_store(embeddings, cache_dir)\n",
    "\n",
    "\n",
    "#docs를 바로 Embedding으로 변환\n",
    "#vectorstore = Chroma.from_documents(docs, embeddings)\n",
    "\n",
    "# cached가 있으면 바로 쓰고 없으면 새로 embedding해서 저장\n",
    "vectorstore = Chroma.from_documents(docs, cached_embeddings)\n",
    "\n",
    "#방금 VecotrStore로 변환한 것에서 검색\n",
    "vectorstore.similarity_search(\"Hi\")\n",
    "\n",
    "\n",
    "# embedder = OpenAIEmbeddings()\n",
    "\n",
    "# #vector = embedder.embed_query(\"Hi! yoon. How are you?\")\n",
    "# vector = embedder.embed_documents([\n",
    "#     \"hi\",\n",
    "#     \"how\",\n",
    "#     \"are\",\n",
    "#     \"you longer sentenses because\"\n",
    "# ])\n",
    "\n",
    "# print(len(vector),len(vector[0]))"
   ]
  },
  {
   "cell_type": "code",
   "execution_count": 9,
   "metadata": {},
   "outputs": [
    {
     "name": "stdout",
     "output_type": "stream",
     "text": [
      "[Document(page_content='이루지 못했다. 하루는 어머니 침소에 가 길동이 울면서 말했다.\\n홍길동전\\uf07c허균\\n“소자, 어머님과 더불어 전생의 연분이 귀중하여 금세(今世)에 모자지간(母子之間)이\\n되었으니 은혜가 망극하옵니다. 그러나 소자의 팔자가 기박(奇薄)하여 천한 몸이 되오니\\n품은 한이 깊사옵니다. 장부가 세상에 살면서 남의 천대를 받는 것이 당치 않은 일이라,\\n소자가 자연히 기운을 억제하지 못하여 어머님 슬하를 떠나려 하옵니다. 엎드려\\n바라오니, 어머님은 소자를 염려하지 마시고 귀한 몸을 보중하옵소서.”', metadata={'source': '../data/hong.pdf'}), Document(page_content='이루지 못했다. 하루는 어머니 침소에 가 길동이 울면서 말했다.\\n홍길동전\\uf07c허균\\n“소자, 어머님과 더불어 전생의 연분이 귀중하여 금세(今世)에 모자지간(母子之間)이\\n되었으니 은혜가 망극하옵니다. 그러나 소자의 팔자가 기박(奇薄)하여 천한 몸이 되오니\\n품은 한이 깊사옵니다. 장부가 세상에 살면서 남의 천대를 받는 것이 당치 않은 일이라,\\n소자가 자연히 기운을 억제하지 못하여 어머님 슬하를 떠나려 하옵니다. 엎드려\\n바라오니, 어머님은 소자를 염려하지 마시고 귀한 몸을 보중하옵소서.”', metadata={'source': '../data/hong.pdf'}), Document(page_content='길동이 두 번 절하고 하직하니, 공이 붙들지 못하고 다만 무사하기만을 당부했다.\\n길동은 또 어머니 침소에 가 이별을 고했다.\\n“소자가 지금 슬하를 떠나고자 하옵니다. 다시 모실 날이 있을 것이오니 어머님은\\n그사이 귀중한 몸을 보중하소서.”\\n춘섬이 이 말을 듣고 무슨 변괴가 있었음을 짐작하여, 하직하는 아들을 보고 손을\\n잡고 통곡하며 말했다.\\n“네 어디로 향하고자 하느냐? 한집에 있어도 처소가 너무 멀어 매양 그리워하더니,\\n이제 너를 정처 없이 보내고 어찌 살겠느냐? 너는 쉬이 돌아와 모자 상봉하기를\\n바라노라.”', metadata={'source': '../data/hong.pdf'}), Document(page_content='길동이 두 번 절하고 하직하니, 공이 붙들지 못하고 다만 무사하기만을 당부했다.\\n길동은 또 어머니 침소에 가 이별을 고했다.\\n“소자가 지금 슬하를 떠나고자 하옵니다. 다시 모실 날이 있을 것이오니 어머님은\\n그사이 귀중한 몸을 보중하소서.”\\n춘섬이 이 말을 듣고 무슨 변괴가 있었음을 짐작하여, 하직하는 아들을 보고 손을\\n잡고 통곡하며 말했다.\\n“네 어디로 향하고자 하느냐? 한집에 있어도 처소가 너무 멀어 매양 그리워하더니,\\n이제 너를 정처 없이 보내고 어찌 살겠느냐? 너는 쉬이 돌아와 모자 상봉하기를\\n바라노라.”', metadata={'source': '../data/hong.pdf'})]\n"
     ]
    }
   ],
   "source": [
    "result = vectorstore.similarity_search(\"홍길동은 어머니는 어때?\")\n",
    "print(result)"
   ]
  }
 ],
 "metadata": {
  "kernelspec": {
   "display_name": "TheThird",
   "language": "python",
   "name": "python3"
  },
  "language_info": {
   "codemirror_mode": {
    "name": "ipython",
    "version": 3
   },
   "file_extension": ".py",
   "mimetype": "text/x-python",
   "name": "python",
   "nbconvert_exporter": "python",
   "pygments_lexer": "ipython3",
   "version": "3.11.6"
  }
 },
 "nbformat": 4,
 "nbformat_minor": 2
}
