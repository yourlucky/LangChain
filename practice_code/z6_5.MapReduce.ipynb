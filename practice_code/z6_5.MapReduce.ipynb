{
 "cells": [
  {
   "cell_type": "code",
   "execution_count": 1,
   "metadata": {},
   "outputs": [
    {
     "name": "stderr",
     "output_type": "stream",
     "text": [
      "Created a chunk of size 935, which is longer than the specified 600\n"
     ]
    },
    {
     "data": {
      "text/plain": [
       "AIMessage(content='죄송합니다, 그 정보를 알 수 없습니다.')"
      ]
     },
     "execution_count": 1,
     "metadata": {},
     "output_type": "execute_result"
    }
   ],
   "source": [
    "from langchain.chat_models import ChatOpenAI\n",
    "from langchain.document_loaders import UnstructuredFileLoader\n",
    "from langchain.text_splitter import CharacterTextSplitter\n",
    "from langchain.embeddings import OpenAIEmbeddings, CacheBackedEmbeddings\n",
    "from langchain.vectorstores import FAISS\n",
    "from langchain.storage import LocalFileStore\n",
    "from langchain.prompts import ChatPromptTemplate\n",
    "from langchain.schema.runnable import RunnablePassthrough, RunnableLambda\n",
    "\n",
    "llm = ChatOpenAI(\n",
    "    temperature=0.1,\n",
    ")\n",
    "\n",
    "cache_dir = LocalFileStore(\"./.cache/\")\n",
    "\n",
    "splitter = CharacterTextSplitter.from_tiktoken_encoder(\n",
    "    separator=\"\\n\",\n",
    "    chunk_size=600,\n",
    "    chunk_overlap=100,\n",
    ")\n",
    "loader = UnstructuredFileLoader(\"../data/hong.pdf\")\n",
    "\n",
    "docs = loader.load_and_split(text_splitter=splitter)\n",
    "\n",
    "embeddings = OpenAIEmbeddings()\n",
    "\n",
    "cached_embeddings = CacheBackedEmbeddings.from_bytes_store(embeddings, cache_dir)\n",
    "\n",
    "vectorstore = FAISS.from_documents(docs, cached_embeddings)\n",
    "\n",
    "retriever = vectorstore.as_retriever()\n",
    "\n",
    "\n",
    "map_doc_prompt = ChatPromptTemplate.from_messages(\n",
    "    [\n",
    "        (\n",
    "            \"system\",\n",
    "            \"\"\"\n",
    "            Use the following portion of a long document to see if any of the text is relevant to answer the question. Return any relevant text verbatim. If there is no relevant text, return : ''\n",
    "            -------\n",
    "            {context}\n",
    "            \"\"\",\n",
    "        ),\n",
    "        (\"human\", \"{question}\"),\n",
    "    ]\n",
    ")\n",
    "\n",
    "map_doc_chain = map_doc_prompt | llm\n",
    "\n",
    "\n",
    "# def map_docs(inputs):\n",
    "#     documents = inputs[\"documents\"]\n",
    "#     question = inputs[\"question\"]\n",
    "#     return \"\\n\\n\".join(\n",
    "#         map_doc_chain.invoke(\n",
    "#             {\"context\": doc.page_content, \"question\": question}\n",
    "#         ).content\n",
    "#         for doc in documents\n",
    "#     )\n",
    "\n",
    "#조금 더 직관적인 함수\n",
    "def map_docs(inputs):\n",
    "    documents = inputs[\"documents\"]\n",
    "    question = inputs[\"question\"]\n",
    "    results = []\n",
    "\n",
    "    for doc in documents:\n",
    "        result = map_doc_chain.invoke(\n",
    "            {\"context\": doc.page_content, \"question\": question}\n",
    "        ).content\n",
    "        results.append(result)\n",
    "    results = \"\\n\\n\".join(results)\n",
    "    return results\n",
    "\n",
    " \n",
    "\n",
    "\n",
    "map_chain = {\n",
    "    \"documents\": retriever,\n",
    "    \"question\": RunnablePassthrough(),\n",
    "} | RunnableLambda(map_docs)\n",
    "\n",
    "final_prompt = ChatPromptTemplate.from_messages(\n",
    "    [\n",
    "        (\n",
    "            \"system\",\n",
    "            \"\"\"\n",
    "            Given the following extracted parts of a long document and a question, create a final answer. \n",
    "            If you don't know the answer, just say that you don't know. Don't try to make up an answer.\n",
    "            ------\n",
    "            {context}\n",
    "            \"\"\",\n",
    "        ),\n",
    "        (\"human\", \"{question}\"),\n",
    "    ]\n",
    ")\n",
    "\n",
    "chain = {\"context\": map_chain, \"question\": RunnablePassthrough()} | final_prompt | llm\n",
    "\n",
    "chain.invoke(\"홍길동을 묘사해줘!\")\n",
    "\n",
    "\n",
    "# embedder = OpenAIEmbeddings()\n",
    "\n",
    "# #vector = embedder.embed_query(\"Hi! yoon. How are you?\")\n",
    "# vector = embedder.embed_documents([\n",
    "#     \"hi\",\n",
    "#     \"how\",\n",
    "#     \"are\",\n",
    "#     \"you longer sentenses because\"\n",
    "# ])\n",
    "\n",
    "# print(len(vector),len(vector[0]))"
   ]
  },
  {
   "cell_type": "code",
   "execution_count": null,
   "metadata": {},
   "outputs": [],
   "source": []
  },
  {
   "cell_type": "code",
   "execution_count": null,
   "metadata": {},
   "outputs": [],
   "source": []
  },
  {
   "cell_type": "code",
   "execution_count": 9,
   "metadata": {},
   "outputs": [
    {
     "name": "stdout",
     "output_type": "stream",
     "text": [
      "[Document(page_content='이루지 못했다. 하루는 어머니 침소에 가 길동이 울면서 말했다.\\n홍길동전\\uf07c허균\\n“소자, 어머님과 더불어 전생의 연분이 귀중하여 금세(今世)에 모자지간(母子之間)이\\n되었으니 은혜가 망극하옵니다. 그러나 소자의 팔자가 기박(奇薄)하여 천한 몸이 되오니\\n품은 한이 깊사옵니다. 장부가 세상에 살면서 남의 천대를 받는 것이 당치 않은 일이라,\\n소자가 자연히 기운을 억제하지 못하여 어머님 슬하를 떠나려 하옵니다. 엎드려\\n바라오니, 어머님은 소자를 염려하지 마시고 귀한 몸을 보중하옵소서.”', metadata={'source': '../data/hong.pdf'}), Document(page_content='이루지 못했다. 하루는 어머니 침소에 가 길동이 울면서 말했다.\\n홍길동전\\uf07c허균\\n“소자, 어머님과 더불어 전생의 연분이 귀중하여 금세(今世)에 모자지간(母子之間)이\\n되었으니 은혜가 망극하옵니다. 그러나 소자의 팔자가 기박(奇薄)하여 천한 몸이 되오니\\n품은 한이 깊사옵니다. 장부가 세상에 살면서 남의 천대를 받는 것이 당치 않은 일이라,\\n소자가 자연히 기운을 억제하지 못하여 어머님 슬하를 떠나려 하옵니다. 엎드려\\n바라오니, 어머님은 소자를 염려하지 마시고 귀한 몸을 보중하옵소서.”', metadata={'source': '../data/hong.pdf'}), Document(page_content='길동이 두 번 절하고 하직하니, 공이 붙들지 못하고 다만 무사하기만을 당부했다.\\n길동은 또 어머니 침소에 가 이별을 고했다.\\n“소자가 지금 슬하를 떠나고자 하옵니다. 다시 모실 날이 있을 것이오니 어머님은\\n그사이 귀중한 몸을 보중하소서.”\\n춘섬이 이 말을 듣고 무슨 변괴가 있었음을 짐작하여, 하직하는 아들을 보고 손을\\n잡고 통곡하며 말했다.\\n“네 어디로 향하고자 하느냐? 한집에 있어도 처소가 너무 멀어 매양 그리워하더니,\\n이제 너를 정처 없이 보내고 어찌 살겠느냐? 너는 쉬이 돌아와 모자 상봉하기를\\n바라노라.”', metadata={'source': '../data/hong.pdf'}), Document(page_content='길동이 두 번 절하고 하직하니, 공이 붙들지 못하고 다만 무사하기만을 당부했다.\\n길동은 또 어머니 침소에 가 이별을 고했다.\\n“소자가 지금 슬하를 떠나고자 하옵니다. 다시 모실 날이 있을 것이오니 어머님은\\n그사이 귀중한 몸을 보중하소서.”\\n춘섬이 이 말을 듣고 무슨 변괴가 있었음을 짐작하여, 하직하는 아들을 보고 손을\\n잡고 통곡하며 말했다.\\n“네 어디로 향하고자 하느냐? 한집에 있어도 처소가 너무 멀어 매양 그리워하더니,\\n이제 너를 정처 없이 보내고 어찌 살겠느냐? 너는 쉬이 돌아와 모자 상봉하기를\\n바라노라.”', metadata={'source': '../data/hong.pdf'})]\n"
     ]
    }
   ],
   "source": [
    "result = vectorstore.similarity_search(\"홍길동은 어머니는 어때?\")\n",
    "print(result)"
   ]
  }
 ],
 "metadata": {
  "kernelspec": {
   "display_name": "TheThird",
   "language": "python",
   "name": "python3"
  },
  "language_info": {
   "codemirror_mode": {
    "name": "ipython",
    "version": 3
   },
   "file_extension": ".py",
   "mimetype": "text/x-python",
   "name": "python",
   "nbconvert_exporter": "python",
   "pygments_lexer": "ipython3",
   "version": "3.11.6"
  }
 },
 "nbformat": 4,
 "nbformat_minor": 2
}
