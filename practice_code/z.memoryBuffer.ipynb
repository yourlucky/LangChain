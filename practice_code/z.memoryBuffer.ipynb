{
 "cells": [
  {
   "cell_type": "code",
   "execution_count": 29,
   "metadata": {},
   "outputs": [],
   "source": [
    "from langchain.memory import ConversationSummaryBufferMemory\n",
    "from langchain.chat_models import ChatOpenAI\n",
    "\n",
    "llm=ChatOpenAI(temperature = 0.1)\n",
    "\n",
    "\n",
    "# it saved not everything but a summary.\n",
    "memory = ConversationSummaryBufferMemory(llm=llm, max_token_limit=50,return_messages=True,)\n",
    "\n",
    "def add_message(input, output):\n",
    "    memory.save_context({\"input\":input},{\"output\":output})\n",
    "\n",
    "def get_history():\n",
    "    return memory.load_memory_variables({})\n",
    "\n",
    "add_message(\"Hi I'm Nicolas, I live in Korea\",\"wow that is so cool!\")\n"
   ]
  },
  {
   "cell_type": "code",
   "execution_count": 30,
   "metadata": {},
   "outputs": [],
   "source": [
    "add_message(\"Korea is so pretty\",\"I wish I could go!!\")\n",
    "add_message(\"How far is Korea from Argentina?\",\"I don't know! Super far!!\")\n",
    "add_message(\"How far is Korea from Brazil?\",\"I don't know! Super far!!\")"
   ]
  },
  {
   "cell_type": "code",
   "execution_count": 31,
   "metadata": {},
   "outputs": [
    {
     "data": {
      "text/plain": [
       "{'history': [SystemMessage(content=\"Nicolas introduces himself as living in Korea. The AI responds with enthusiasm, finding it cool and expressing a desire to visit. The human mentions Korea's beauty and asks about the distance from Argentina.\"),\n",
       "  AIMessage(content=\"I don't know! Super far!!\"),\n",
       "  HumanMessage(content='How far is Korea from Brazil?'),\n",
       "  AIMessage(content=\"I don't know! Super far!!\")]}"
      ]
     },
     "execution_count": 31,
     "metadata": {},
     "output_type": "execute_result"
    }
   ],
   "source": [
    "get_history()"
   ]
  }
 ],
 "metadata": {
  "kernelspec": {
   "display_name": "TheThird",
   "language": "python",
   "name": "python3"
  },
  "language_info": {
   "codemirror_mode": {
    "name": "ipython",
    "version": 3
   },
   "file_extension": ".py",
   "mimetype": "text/x-python",
   "name": "python",
   "nbconvert_exporter": "python",
   "pygments_lexer": "ipython3",
   "version": "3.11.6"
  }
 },
 "nbformat": 4,
 "nbformat_minor": 2
}
