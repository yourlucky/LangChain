{
 "cells": [
  {
   "cell_type": "code",
   "execution_count": 24,
   "metadata": {},
   "outputs": [
    {
     "data": {
      "text/plain": [
       "'{\"lon\":\"12.4964\",\"lat\":\"41.9028\"}'"
      ]
     },
     "execution_count": 24,
     "metadata": {},
     "output_type": "execute_result"
    }
   ],
   "source": [
    "from langchain.chat_models import ChatOpenAI\n",
    "from langchain.prompts import PromptTemplate\n",
    "\n",
    "\n",
    "def get_weatehr(lon,lat):\n",
    "    print(\"call an api......\")\n",
    "    return {\"weatehr\":\"sunny\"}\n",
    "\n",
    "function = {\n",
    "    \"name\": \"get_weather\",\n",
    "    \"description\": \"Function that takes longitude and latitude to find the weather of a place\",\n",
    "    \"parameters\": {\n",
    "        \"type\": \"object\",\n",
    "        \"properties\": {\n",
    "            \"lon\": {\"type\": \"string\", \"description\": \"The longitude coordinate\"},\n",
    "            \"lat\": {\"type\": \"string\", \"description\": \"The latitude coordinate\"},\n",
    "        },\n",
    "    },\n",
    "    \"required\": [\"lon\", \"lat\"],\n",
    "}\n",
    "\n",
    "\n",
    "llm = ChatOpenAI(\n",
    "    temperature=0.1,\n",
    ").bind(function_call={\"name\":\"get_weather\"},functions=[function])\n",
    "\n",
    "\n",
    "\n",
    "\n",
    "prompt = PromptTemplate.from_template(\"How is the weather {city} ?\")\n",
    "\n",
    "chain = prompt | llm\n",
    "\n",
    "response = chain.invoke({\"city\": \"rome\"})\n",
    "\n",
    "response = response.additional_kwargs[\"function_call\"][\"arguments\"]\n",
    "\n",
    "response"
   ]
  },
  {
   "cell_type": "code",
   "execution_count": null,
   "metadata": {},
   "outputs": [
    {
     "name": "stdout",
     "output_type": "stream",
     "text": [
      "{'question': 'What year was Rome founded?', 'answers': [{'answer': '753 BC', 'correct': True}, {'answer': '500 AD', 'correct': False}, {'answer': '100 BC', 'correct': False}]}\n",
      "{'question': 'Who was the first emperor of Rome?', 'answers': [{'answer': 'Julius Caesar', 'correct': False}, {'answer': 'Augustus', 'correct': True}, {'answer': 'Nero', 'correct': False}]}\n",
      "{'question': 'What famous structure in Rome was built by the ancient Romans?', 'answers': [{'answer': 'Eiffel Tower', 'correct': False}, {'answer': 'Colosseum', 'correct': True}, {'answer': 'Big Ben', 'correct': False}]}\n"
     ]
    }
   ],
   "source": []
  }
 ],
 "metadata": {
  "kernelspec": {
   "display_name": "TheThird",
   "language": "python",
   "name": "python3"
  },
  "language_info": {
   "codemirror_mode": {
    "name": "ipython",
    "version": 3
   },
   "file_extension": ".py",
   "mimetype": "text/x-python",
   "name": "python",
   "nbconvert_exporter": "python",
   "pygments_lexer": "ipython3",
   "version": "3.11.6"
  }
 },
 "nbformat": 4,
 "nbformat_minor": 2
}
