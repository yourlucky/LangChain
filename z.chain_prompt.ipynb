{
 "cells": [
  {
   "cell_type": "code",
   "execution_count": 16,
   "metadata": {},
   "outputs": [],
   "source": [
    "from langchain.chat_models import ChatOpenAI\n",
    "from langchain.prompts import ChatPromptTemplate\n",
    "from langchain.callbacks import StreamingStdOutCallbackHandler\n",
    "\n",
    "chat = ChatOpenAI(temperature = 0.1,\n",
    "                  #steaming이true면 생성되는대로 볼수있다.\n",
    "                  streaming=True,\n",
    "                    #callback는 터미널에 한줄씩 출력해준다.\n",
    "                  callbacks=[StreamingStdOutCallbackHandler()],\n",
    "                  )\n",
    "\n",
    "chef_prompt = ChatPromptTemplate.from_messages([\n",
    "    (\"system\", \"You are a world-class international chef. You create easy to follow recipies for any type of cuisin with easy to find ingredients.\"),\n",
    "    (\"human\",\"I want to cook {cuisine} food.\"),\n",
    "])\n",
    "\n",
    "chef_chain = chef_prompt | chat "
   ]
  },
  {
   "cell_type": "code",
   "execution_count": 17,
   "metadata": {},
   "outputs": [
    {
     "name": "stdout",
     "output_type": "stream",
     "text": [
      "Great choice! Let's make a classic and delicious Spaghetti Carbonara. Here's the recipe:\n",
      "\n",
      "Ingredients:\n",
      "- 8 oz spaghetti\n",
      "- 4 oz pancetta or bacon, diced\n",
      "- 2 cloves of garlic, minced\n",
      "- 2 large eggs\n",
      "- 1 cup grated Parmesan cheese\n",
      "- Salt and black pepper to taste\n",
      "- Fresh parsley, chopped (for garnish)\n",
      "\n",
      "Instructions:\n",
      "1. Cook the spaghetti in a large pot of salted boiling water according to package instructions until al dente. Reserve 1 cup of pasta water before draining the spaghetti.\n",
      "\n",
      "2. In a large skillet, cook the pancetta over medium heat until crispy. Add the minced garlic and cook for another minute.\n",
      "\n",
      "3. In a bowl, whisk together the eggs, grated Parmesan cheese, salt, and black pepper.\n",
      "\n",
      "4. Add the drained spaghetti to the skillet with the pancetta and garlic. Toss to combine.\n",
      "\n",
      "5. Remove the skillet from heat and quickly pour the egg and cheese mixture over the spaghetti. Toss well to coat the pasta evenly. If the sauce is too thick, add a little pasta water to loosen it up.\n",
      "\n",
      "6. Serve the spaghetti carbonara hot, garnished with chopped parsley and extra Parmesan cheese if desired.\n",
      "\n",
      "Enjoy your homemade Spaghetti Carbonara! Buon appetito!"
     ]
    },
    {
     "data": {
      "text/plain": [
       "'\\nfinal_chain.invoke({\\n    \"cuisine\": \"italian\",\\n})\\n'"
      ]
     },
     "execution_count": 17,
     "metadata": {},
     "output_type": "execute_result"
    }
   ],
   "source": [
    "veg_chef_prompt = ChatPromptTemplate.from_messages([\n",
    "    (\"system\", \"You are a vegetarian chef specialized on making traditional recipies vegetarian. You find alternative ingredients and explain their preparation. You don't radically modify the recipe. If there is no alternative for a food just say you don't know how to replace it.\"),\n",
    "    (\"human\",\"{recipe}\"),\n",
    "])\n",
    "\n",
    "\n",
    "veg_chain = veg_chef_prompt | chat\n",
    "\n",
    "intermediate= chef_chain.invoke({\n",
    "    \"cuisine\": \"italian\",\n",
    "})\n",
    "\n",
    "#print(\"====================================\")\n",
    "#print(intermediate)\n",
    "#print(\"====================================\")\n",
    "\n",
    "final_chain = {\"recipe\" :chef_chain} | veg_chain\n",
    "\n",
    "#final_chain = {\"recipe\" :chef_chain.invoke({\"cuisine\": \"italian\"})} | veg_chain\n",
    "\n",
    "#chef_chain의 결과가 Recipe로 veg_chain들어가게 된다.\n",
    "#veg_chain은 그걸 recipe로 받아서 chat에 넣어서 결과를 받는다. \n",
    "\"\"\"\n",
    "final_chain.invoke({\n",
    "    \"cuisine\": \"italian\",\n",
    "})\n",
    "\"\"\"\n"
   ]
  }
 ],
 "metadata": {
  "kernelspec": {
   "display_name": "TheThird",
   "language": "python",
   "name": "python3"
  },
  "language_info": {
   "codemirror_mode": {
    "name": "ipython",
    "version": 3
   },
   "file_extension": ".py",
   "mimetype": "text/x-python",
   "name": "python",
   "nbconvert_exporter": "python",
   "pygments_lexer": "ipython3",
   "version": "3.11.6"
  }
 },
 "nbformat": 4,
 "nbformat_minor": 2
}
